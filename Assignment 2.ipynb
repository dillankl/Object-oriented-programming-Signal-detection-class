{
 "cells": [
  {
   "cell_type": "code",
   "execution_count": 9,
   "id": "aa745bfa",
   "metadata": {},
   "outputs": [
    {
     "name": "stderr",
     "output_type": "stream",
     "text": [
      "....\n",
      "----------------------------------------------------------------------\n",
      "Ran 4 tests in 0.015s\n",
      "\n",
      "OK\n"
     ]
    }
   ],
   "source": [
    "import numpy as np\n",
    "from scipy.stats import norm\n",
    "import unittest\n",
    "import matplotlib.pyplot as plt\n",
    "\n",
    "class SignalDetection:\n",
    "    def __init__(self, hits, misses, falseAlarms, correctRejections):\n",
    "        self.hits = hits\n",
    "        self.misses = misses\n",
    "        self.falseAlarms = falseAlarms\n",
    "        self.correctRejections = correctRejections\n",
    "        self.hitRate= hits / (hits+misses)\n",
    "        self.falseAlarmrate = falseAlarms / (falseAlarms + correctRejections)\n",
    "\n",
    "    def d_prime(self):\n",
    "        return (norm.ppf(self.hitRate) - norm.ppf(self.falseAlarmrate))\n",
    "\n",
    "    def criterion(self):\n",
    "        return -0.5 * (norm.ppf(self.hitRate) + norm.ppf(self.falseAlarmrate))\n",
    " \n",
    "\n",
    "\n",
    "class TestSignalDetection(unittest.TestCase):\n",
    "    def test_d_prime_zero(self):\n",
    "        sd   = SignalDetection(15, 5, 15, 5)\n",
    "        expected = 0\n",
    "        obtained = sd.d_prime()\n",
    "        self.assertAlmostEqual(obtained, expected, places=6)\n",
    "    def test_d_prime_nonzero(self):\n",
    "        sd   = SignalDetection(15, 10, 15, 5)\n",
    "        expected = -0.421142647060282\n",
    "        obtained = sd.d_prime()\n",
    "        self.assertAlmostEqual(obtained, expected, places=6)\n",
    "    def test_criterion_zero(self):\n",
    "        sd   = SignalDetection(5, 5, 5, 5)\n",
    "        expected = 0\n",
    "        obtained = sd.criterion()\n",
    "        self.assertAlmostEqual(obtained, expected, places=6)\n",
    "    def test_criterion_nonzero(self):\n",
    "        sd   = SignalDetection(15, 10, 15, 5)\n",
    "        expected = -0.463918426665941\n",
    "        obtained = sd.criterion()\n",
    "        self.assertAlmostEqual(obtained, expected, places=6)\n",
    "\n",
    "if __name__ == '__main__':\n",
    "    unittest.main(argv=['first-arg-is-ignored'], exit=False)\n"
   ]
  },
  {
   "cell_type": "code",
   "execution_count": null,
   "id": "03eec2a0",
   "metadata": {},
   "outputs": [],
   "source": []
  },
  {
   "cell_type": "code",
   "execution_count": null,
   "id": "c1452a9a",
   "metadata": {},
   "outputs": [],
   "source": []
  },
  {
   "cell_type": "code",
   "execution_count": null,
   "id": "0f9e7def",
   "metadata": {},
   "outputs": [],
   "source": []
  },
  {
   "cell_type": "code",
   "execution_count": null,
   "id": "86f7f4a6",
   "metadata": {},
   "outputs": [],
   "source": []
  },
  {
   "cell_type": "code",
   "execution_count": null,
   "id": "c80418d6",
   "metadata": {},
   "outputs": [],
   "source": []
  },
  {
   "cell_type": "code",
   "execution_count": null,
   "id": "4c5d8efe",
   "metadata": {},
   "outputs": [],
   "source": []
  }
 ],
 "metadata": {
  "kernelspec": {
   "display_name": "Python 3.9.12 ('base')",
   "language": "python",
   "name": "python3"
  },
  "language_info": {
   "codemirror_mode": {
    "name": "ipython",
    "version": 3
   },
   "file_extension": ".py",
   "mimetype": "text/x-python",
   "name": "python",
   "nbconvert_exporter": "python",
   "pygments_lexer": "ipython3",
   "version": "3.9.12"
  },
  "vscode": {
   "interpreter": {
    "hash": "6d7bf99bf7f5f116f36d7dd89b6b2d92d5b2f601dc72d6896c1c6ad9c760aeb2"
   }
  }
 },
 "nbformat": 4,
 "nbformat_minor": 5
}
